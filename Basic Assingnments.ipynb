{
 "cells": [
  {
   "cell_type": "markdown",
   "id": "3250134b",
   "metadata": {},
   "source": [
    "#### 1. WAP to take 10 numbers from a user and store them in a list."
   ]
  },
  {
   "cell_type": "code",
   "execution_count": 6,
   "id": "249901e1",
   "metadata": {},
   "outputs": [
    {
     "name": "stdout",
     "output_type": "stream",
     "text": [
      "Enter the number: 10\n",
      "4\n",
      "5\n",
      "3\n",
      "2\n",
      "5\n",
      "6\n",
      "8\n",
      "3\n",
      "8\n",
      "9\n",
      "[4, 5, 3, 2, 5, 6, 8, 3, 8, 9]\n"
     ]
    }
   ],
   "source": [
    "lst = []\n",
    "n = int(input(\"Enter the number: \"))\n",
    "for i in range(0,n):\n",
    "    value = int(input())\n",
    "    lst.append(value)\n",
    "print(lst)"
   ]
  },
  {
   "cell_type": "markdown",
   "id": "a9db3793",
   "metadata": {},
   "source": [
    "#### 2. Display numbers divisible by 5 from a list.\n"
   ]
  },
  {
   "cell_type": "code",
   "execution_count": 8,
   "id": "b02b27d7",
   "metadata": {},
   "outputs": [
    {
     "name": "stdout",
     "output_type": "stream",
     "text": [
      "10\n",
      "45\n",
      "40\n",
      "35\n"
     ]
    }
   ],
   "source": [
    "div = [6,10,45,37,89,40,35]\n",
    "for i in div:\n",
    "    if i%5==0:\n",
    "        print(i)"
   ]
  },
  {
   "cell_type": "markdown",
   "id": "6724ffe8",
   "metadata": {},
   "source": [
    "#### 3. WAP to calculate the count of elements in a string taken as input from the user.\n"
   ]
  },
  {
   "cell_type": "code",
   "execution_count": 11,
   "id": "595575b9",
   "metadata": {},
   "outputs": [
    {
     "name": "stdout",
     "output_type": "stream",
     "text": [
      "20\n"
     ]
    }
   ],
   "source": [
    "strng = \"Hello, Im Nithya !!!\"\n",
    "print(len(strng))"
   ]
  },
  {
   "cell_type": "markdown",
   "id": "d4fd6e00",
   "metadata": {},
   "source": [
    "#### 4. WAP to check if a number is even or odd where number is taken as input.\n"
   ]
  },
  {
   "cell_type": "code",
   "execution_count": 13,
   "id": "2f3ac5a5",
   "metadata": {},
   "outputs": [
    {
     "name": "stdout",
     "output_type": "stream",
     "text": [
      "Enter a number: 4\n",
      "Even\n"
     ]
    }
   ],
   "source": [
    "x = int(input(\"Enter a number: \"))\n",
    "if x%2==0:\n",
    "    print(\"Even\")\n",
    "else:\n",
    "    print(\"Odd\")"
   ]
  },
  {
   "cell_type": "markdown",
   "id": "fc41cb1a",
   "metadata": {},
   "source": [
    "#### 5. WAP to reverse a string taken as input from the user.\n"
   ]
  },
  {
   "cell_type": "code",
   "execution_count": 17,
   "id": "dc016cd7",
   "metadata": {},
   "outputs": [
    {
     "name": "stdout",
     "output_type": "stream",
     "text": [
      "Enter a string: Hello\n",
      "olleH\n"
     ]
    }
   ],
   "source": [
    "strng = input(\"Enter a string: \")\n",
    "print(strng[::-1])"
   ]
  },
  {
   "cell_type": "markdown",
   "id": "91fb5665",
   "metadata": {},
   "source": [
    "#### 6. WAP to reverse all the strings present in a list and save them in a new list.\n"
   ]
  },
  {
   "cell_type": "code",
   "execution_count": 21,
   "id": "c0df08c2",
   "metadata": {},
   "outputs": [
    {
     "name": "stdout",
     "output_type": "stream",
     "text": [
      "['Hello All!!']\n"
     ]
    }
   ],
   "source": [
    "lst = []\n",
    "strn = [\"Hello All!!\"][::-1]\n",
    "for i in strn:\n",
    "    nstrn = i\n",
    "    lst.append(nstrn)\n",
    "print(lst)"
   ]
  },
  {
   "cell_type": "markdown",
   "id": "09d79560",
   "metadata": {},
   "source": [
    "#### 7. Print characters from a string that are present at an even index number\n"
   ]
  },
  {
   "cell_type": "code",
   "execution_count": 16,
   "id": "50f23fb8",
   "metadata": {},
   "outputs": [
    {
     "name": "stdout",
     "output_type": "stream",
     "text": [
      "Even H\n",
      "Even l\n",
      "Even o\n",
      "Even I\n",
      "Even  \n",
      "Even i\n",
      "Even h\n",
      "Even a\n"
     ]
    }
   ],
   "source": [
    "a = \"Hello Im Nithya\"\n",
    "for i in range(len(a)):\n",
    "    if i%2==0:\n",
    "        print(\"Even\",a[i])"
   ]
  },
  {
   "cell_type": "markdown",
   "id": "9b80b574",
   "metadata": {},
   "source": [
    "#### 8. Check if the first and last number of a list is the same"
   ]
  },
  {
   "cell_type": "code",
   "execution_count": 21,
   "id": "d7706a4e",
   "metadata": {},
   "outputs": [
    {
     "name": "stdout",
     "output_type": "stream",
     "text": [
      "Original List:  [6, 10, 45, 37, 89, 40, 35, 6]\n",
      "Same 6 6\n"
     ]
    }
   ],
   "source": [
    "lst = [6,10,45,37,89,40,35,6]\n",
    "print(\"Original List: \", lst)\n",
    "if lst[0]==lst[-1]:\n",
    "    print(\"Same\",lst[0],lst[-1])\n",
    "else:\n",
    "    print(\"Different\",lst[0],lst[-1])"
   ]
  },
  {
   "cell_type": "code",
   "execution_count": 22,
   "id": "81c86141",
   "metadata": {},
   "outputs": [
    {
     "name": "stdout",
     "output_type": "stream",
     "text": [
      "Original List:  [6, 10, 45, 37, 89, 40, 35, 3]\n",
      "Different 6 3\n"
     ]
    }
   ],
   "source": [
    "lst = [6,10,45,37,89,40,35,3]\n",
    "print(\"Original List: \", lst)\n",
    "if lst[0]==lst[-1]:\n",
    "    print(\"Same\",lst[0],lst[-1])\n",
    "else:\n",
    "    print(\"Different\",lst[0],lst[-1])"
   ]
  },
  {
   "cell_type": "markdown",
   "id": "5f8b379d",
   "metadata": {},
   "source": [
    "#### 9. Calculate income tax for the input income by adhering to the Indian rules."
   ]
  },
  {
   "cell_type": "code",
   "execution_count": 86,
   "id": "fc8e3a90",
   "metadata": {},
   "outputs": [
    {
     "name": "stdout",
     "output_type": "stream",
     "text": [
      "Enter the Total Income: 300000\n",
      "The tax for the income  300000 = 2500.0\n"
     ]
    }
   ],
   "source": [
    "# Give the income as static input and store it in a variable.\n",
    "givenincome = int(input(\"Enter the Total Income: \"))\n",
    "# We will use if and else statements here to complete our income tax calculating conditions,\n",
    "# which are as follows,\n",
    "# If your income is less than or equivalent to Rs. 2,50,000,the taxAmount=0.\n",
    "if givenincome <= 250000:\n",
    "    taxAmount = 0\n",
    "# If your income is less than or equal to Rs. 5,00,000,\n",
    "# the taxAmount will be 5% of your total income over Rs. 2,50,000.\n",
    "elif givenincome <= 500000:\n",
    "    taxAmount = (givenincome - 250000) * 0.05\n",
    "# If your income is less than or equal to Rs. 7,50,000,\n",
    "# your taxAmount rate will be 10% of your total income\n",
    "# beyond Rs. 5,00,000, with an additional cost of Rs. 12,500.\n",
    "elif givenincome <= 750000:\n",
    "    taxAmount = (givenincome - 500000) * 0.10 + 12500\n",
    "# If your income is less than or equivalent to Rs. 10,00,000,\n",
    "# your taxAmount rate will be 15% of your total income over Rs. 7,50,000,\n",
    "# with an additional fee of Rs. 37,500.\n",
    "elif givenincome <= 1000000:\n",
    "    taxAmount = (givenincome - 750000) * 0.15 + 37500\n",
    "# If your income is less than or equal to Rs. 12,50,000,\n",
    "# your taxAmount rate will be 20% of your total income beyond Rs. 10,00,000,\n",
    "# with an additional fee of Rs. 75,000.\n",
    "elif givenincome <= 1250000:\n",
    "    taxAmount = (givenincome - 1000000) * 0.20 + 75000\n",
    "# If your income is less than or equal to Rs. 15,00,000,\n",
    "# your taxAmount rate will be 25% of your total income beyond Rs. 12,50,000,\n",
    "# with an additional cost of Rs. 1,25,000.\n",
    "elif givenincome <= 1500000:\n",
    "    taxAmount = (givenincome - 1250000) * 0.25 + 125000\n",
    "# If your income exceeds Rs. 15,00,000,\n",
    "# you will be taxed at 30% of the excess, with an additional fee of Rs. 1,87,500.\n",
    "else:\n",
    "    taxAmount = (givenincome - 1500000) * 0.30 + 187500\n",
    "# Print the Tax.\n",
    "print('The tax for the income ', givenincome, '=', taxAmount)"
   ]
  },
  {
   "cell_type": "code",
   "execution_count": 1,
   "id": "6e7f644d",
   "metadata": {},
   "outputs": [
    {
     "name": "stdout",
     "output_type": "stream",
     "text": [
      "Enter the Total Income: 800000\n",
      "The tax for the income  800000 = 45000.0\n"
     ]
    }
   ],
   "source": [
    "givenincome = int(input(\"Enter the Total Income: \")) \n",
    "if givenincome <= 250000:\n",
    "    taxAmount = 0\n",
    "elif givenincome <= 500000:\n",
    "    taxAmount = (givenincome - 250000) * 0.05\n",
    "elif givenincome <= 750000:\n",
    "    taxAmount = (givenincome - 500000) * 0.10 + 12500\n",
    "elif givenincome <= 1000000:\n",
    "    taxAmount = (givenincome - 750000) * 0.15 + 37500\n",
    "elif givenincome <= 1250000:\n",
    "    taxAmount = (givenincome - 1000000) * 0.20 + 75000\n",
    "elif givenincome <= 1500000:\n",
    "    taxAmount = (givenincome - 1250000) * 0.25 + 125000\n",
    "else:\n",
    "    taxAmount = (givenincome - 1500000) * 0.30 + 187500\n",
    "print('The tax for the income ', givenincome, '=', taxAmount)"
   ]
  },
  {
   "cell_type": "markdown",
   "id": "8163def9",
   "metadata": {},
   "source": [
    "#### 10. Write a Python program to check whether a string starts with vowel or not."
   ]
  },
  {
   "cell_type": "code",
   "execution_count": 20,
   "id": "5747ae79",
   "metadata": {},
   "outputs": [
    {
     "name": "stdout",
     "output_type": "stream",
     "text": [
      "No string starts with consonant H\n"
     ]
    }
   ],
   "source": [
    "a = \"Hello Im Nithya\"\n",
    "vowel = ['a','e','i','o','u']\n",
    "if a[0] in vowel:\n",
    "    print(\"Yes String Starts with Vowel\",a[0])\n",
    "else:\n",
    "    print(\"No string starts with consonant\",a[0])    "
   ]
  },
  {
   "cell_type": "markdown",
   "id": "0332cb3c",
   "metadata": {},
   "source": [
    "#### 11. Write a Python program to check if all the characters of a string are vowel or not."
   ]
  },
  {
   "cell_type": "code",
   "execution_count": 32,
   "id": "abd33524",
   "metadata": {},
   "outputs": [
    {
     "name": "stdout",
     "output_type": "stream",
     "text": [
      "No H\n",
      "Yes e\n",
      "No l\n",
      "No l\n",
      "Yes o\n",
      "No  \n",
      "No I\n",
      "No m\n",
      "No  \n",
      "No N\n",
      "Yes i\n",
      "No t\n",
      "No h\n",
      "No y\n",
      "Yes a\n"
     ]
    }
   ],
   "source": [
    "a = \"Hello Im Nithya\"\n",
    "vowel = ['a','e','i','o','u']\n",
    "for i in range(len(a)):\n",
    "    if a[i] in vowel:\n",
    "        print(\"Yes\",a[i])\n",
    "    else:\n",
    "        print(\"No\", a[i])"
   ]
  },
  {
   "cell_type": "markdown",
   "id": "e0339720",
   "metadata": {},
   "source": [
    "#### 12. WAP to calculate percentage of a student through 5 subjects. Take marks as input from the user."
   ]
  },
  {
   "cell_type": "code",
   "execution_count": 36,
   "id": "5664ed8d",
   "metadata": {},
   "outputs": [
    {
     "name": "stdout",
     "output_type": "stream",
     "text": [
      "Enter Tamil marks:45\n",
      "Enter English marks:50\n",
      "Enter Maths Marks:55\n",
      "Enter Science Marks:60\n",
      "Enter Social Marks:65\n",
      "275\n",
      "Average Marks:  55.0\n"
     ]
    }
   ],
   "source": [
    "a = int(input(\"Enter Tamil marks:\"))\n",
    "b = int(input(\"Enter English marks:\"))\n",
    "c = int(input(\"Enter Maths Marks:\")) \n",
    "d = int(input(\"Enter Science Marks:\"))\n",
    "e = int(input(\"Enter Social Marks:\"))\n",
    "total= a+b+c+d+e\n",
    "print(total)\n",
    "avg = total/5\n",
    "print(\"Average Marks: \",avg)"
   ]
  },
  {
   "cell_type": "markdown",
   "id": "b95a449c",
   "metadata": {},
   "source": [
    "#### 13. WAP to convert '95.3' taken as input from the user into float value."
   ]
  },
  {
   "cell_type": "code",
   "execution_count": 46,
   "id": "be624af1",
   "metadata": {},
   "outputs": [
    {
     "name": "stdout",
     "output_type": "stream",
     "text": [
      "Enter a number: 95.3\n",
      "<class 'str'>\n",
      "95.3\n",
      "<class 'float'>\n"
     ]
    }
   ],
   "source": [
    "x = str(input(\"Enter a number: \"))\n",
    "print(type(x))\n",
    "f = float(x)\n",
    "print(f)\n",
    "print(type(f))"
   ]
  },
  {
   "cell_type": "markdown",
   "id": "799fae89",
   "metadata": {},
   "source": [
    "#### 14. WAP to count the number of zeroes present in a number taken as input from the user."
   ]
  },
  {
   "cell_type": "code",
   "execution_count": 65,
   "id": "7e185fa3",
   "metadata": {},
   "outputs": [
    {
     "name": "stdout",
     "output_type": "stream",
     "text": [
      "Enter a number: 7090\n",
      "2\n"
     ]
    }
   ],
   "source": [
    "x = str(input(\"Enter a number: \"))\n",
    "y = x.count('0')\n",
    "print(y)"
   ]
  },
  {
   "cell_type": "markdown",
   "id": "58abbf83",
   "metadata": {},
   "source": [
    "#### 15. WAP to calculate the surface area of a triangle. Take the required values as input."
   ]
  },
  {
   "cell_type": "code",
   "execution_count": 66,
   "id": "59a8f7d6",
   "metadata": {},
   "outputs": [
    {
     "name": "stdout",
     "output_type": "stream",
     "text": [
      "Enter the base= 5\n",
      "Enter the height= 4\n",
      "Surface Area of Triangle =  10.0\n"
     ]
    }
   ],
   "source": [
    "b = int(input(\"Enter the base= \"))\n",
    "h = int(input(\"Enter the height= \"))\n",
    "area = 0.5\n",
    "print(\"Surface Area of Triangle = \",area*b*h)"
   ]
  },
  {
   "cell_type": "markdown",
   "id": "f8df6e9f",
   "metadata": {},
   "source": [
    "#### 16. WAP to concatenate two lists index-wise and save the result in a 3rd list."
   ]
  },
  {
   "cell_type": "code",
   "execution_count": 68,
   "id": "ccbe23a5",
   "metadata": {},
   "outputs": [
    {
     "name": "stdout",
     "output_type": "stream",
     "text": [
      "['hi nithya!!', 'How are', 'you????']\n"
     ]
    }
   ],
   "source": [
    "lst1 = ['hi ','How ','you']\n",
    "lst2 = ['nithya!!','are','????']\n",
    "lst3 = [i+j for i,j in zip(lst1,lst2)]\n",
    "print(lst3)"
   ]
  },
  {
   "cell_type": "markdown",
   "id": "7e6516c0",
   "metadata": {},
   "source": [
    "#### 17. WAP to convert two lists into a dictionary. Take the elements from first list as keys and elements from second list as values.\n"
   ]
  },
  {
   "cell_type": "code",
   "execution_count": 74,
   "id": "a2399566",
   "metadata": {},
   "outputs": [
    {
     "name": "stdout",
     "output_type": "stream",
     "text": [
      "{'Name: ': 'Nithya', 'Place: ': 'Pune', 'DOB: ': '03/12/96'}\n"
     ]
    }
   ],
   "source": [
    "lst1 = ['Name: ','Place: ','DOB: ']\n",
    "lst2 = ['Nithya','Pune','03/12/96']\n",
    "lst3 = zip(lst1,lst2)\n",
    "print(dict(lst3))"
   ]
  },
  {
   "cell_type": "markdown",
   "id": "38c9631b",
   "metadata": {},
   "source": [
    "#### 18. Input and store the marks of 10 students in a list. Print max and min marks."
   ]
  },
  {
   "cell_type": "code",
   "execution_count": 79,
   "id": "7ddcb8e3",
   "metadata": {},
   "outputs": [
    {
     "name": "stdout",
     "output_type": "stream",
     "text": [
      "MAX:  90\n",
      "MIN:  23\n"
     ]
    }
   ],
   "source": [
    "lst = [45,69,67,30,89,45,90,23,45,89]\n",
    "print(\"MAX: \",max(lst))\n",
    "print(\"MIN: \",min(lst))"
   ]
  },
  {
   "cell_type": "markdown",
   "id": "05d1716b",
   "metadata": {},
   "source": [
    "#### 19. WAP to save the username and password of 10 users in a dictionary."
   ]
  },
  {
   "cell_type": "code",
   "execution_count": 82,
   "id": "570d63df",
   "metadata": {},
   "outputs": [
    {
     "name": "stdout",
     "output_type": "stream",
     "text": [
      "{'Amit_A': '873vd', 'Hari_H': '8hhy', 'Ajay_A': '5fhdj', 'Thechu_T': 'ysfe7', 'Akshay_A': '73dte', 'Harshi_H': 'r6g3', 'Haran_H': '8jeh', 'Boomi_B': '8ehe', 'Nith_Rc': '74huf', 'Pavi_P': '8djue'}\n"
     ]
    }
   ],
   "source": [
    "User_Name = {'Nith_Rc','Hari_H','Pavi_P','Amit_A','Ajay_A','Boomi_B','Akshay_A','Harshi_H','Thechu_T','Haran_H'}\n",
    "pass_Word = {'ysfe7','74huf','r6g3','73dte','5fhdj','8hhy','63vvec','873vd','8jeh','8djue','8ehe'}\n",
    "d = zip(User_Name,pass_Word)\n",
    "print(dict(d))"
   ]
  },
  {
   "cell_type": "markdown",
   "id": "9ff214b2",
   "metadata": {},
   "source": [
    "#### 20. Write a Python program to find the sum of the first n positive integers. Take n as input from the user."
   ]
  },
  {
   "cell_type": "code",
   "execution_count": 83,
   "id": "2cb2d5b0",
   "metadata": {},
   "outputs": [
    {
     "name": "stdout",
     "output_type": "stream",
     "text": [
      "Enter a number: 8\n",
      "sum of the first 8 positive integers:  36.0\n"
     ]
    }
   ],
   "source": [
    "n = int(input(\"Enter a number: \"))\n",
    "sum_num = (n*(n+1))/2\n",
    "print(\"sum of the first\",n,\"positive integers: \",sum_num)"
   ]
  }
 ],
 "metadata": {
  "kernelspec": {
   "display_name": "Python 3 (ipykernel)",
   "language": "python",
   "name": "python3"
  },
  "language_info": {
   "codemirror_mode": {
    "name": "ipython",
    "version": 3
   },
   "file_extension": ".py",
   "mimetype": "text/x-python",
   "name": "python",
   "nbconvert_exporter": "python",
   "pygments_lexer": "ipython3",
   "version": "3.9.12"
  }
 },
 "nbformat": 4,
 "nbformat_minor": 5
}
